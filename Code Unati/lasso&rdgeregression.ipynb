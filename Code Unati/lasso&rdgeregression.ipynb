{
 "cells": [
  {
   "cell_type": "code",
   "execution_count": 24,
   "metadata": {},
   "outputs": [],
   "source": [
    "import numpy as np\n",
    "import pandas as pd\n",
    "import matplotlib.pyplot as plt\n",
    "%matplotlib inline\n",
    "from sklearn.linear_model import LinearRegression, Lasso, Ridge, ElasticNet\n",
    "from sklearn.datasets import fetch_california_housing\n",
    "from sklearn.preprocessing import StandardScaler\n",
    "from sklearn.model_selection import train_test_split\n",
    "import statsmodels.api as sm   # for estimating and performing statistical model\n",
    "from scipy import stats \n",
    "import warnings\n",
    "warnings.filterwarnings('ignore')"
   ]
  },
  {
   "cell_type": "code",
   "execution_count": 25,
   "metadata": {},
   "outputs": [],
   "source": [
    "def pretty_print_linear(coefs, names = None, sort = False):\n",
    "    if names is None:\n",
    "        names = ['x%s' % x for i in range(len(coefs))]\n",
    "    lst = zip(coefs, names)\n",
    "    if sort:\n",
    "        lst = sorted(lst, key = lambda x:np.abs(x[0]))\n",
    "    return \" + \".join(\"%s * %s\" %(round(coefs, 3), names) for coefs, names in lst)"
   ]
  },
  {
   "cell_type": "code",
   "execution_count": 26,
   "metadata": {},
   "outputs": [],
   "source": [
    "def load_data():\n",
    "    boston = fetch_california_housing()\n",
    "    print(boston.DESCR)\n",
    "    x = boston[\"data\"]\n",
    "    y = boston[\"target\"]\n",
    "    names = boston[\"feature_names\"]\n",
    "    return x,y, names"
   ]
  },
  {
   "cell_type": "code",
   "execution_count": 27,
   "metadata": {},
   "outputs": [],
   "source": [
    "def scale_data(x):\n",
    "    scale = StandardScaler()\n",
    "    x = scale.fit_transform(x)\n",
    "    return x"
   ]
  },
  {
   "cell_type": "code",
   "execution_count": 44,
   "metadata": {},
   "outputs": [],
   "source": [
    "def split_data(x, y):\n",
    "    x_train, x_test, y_train, y_test = train_test_split(x, y, test_size=0.3, random_state=42)\n",
    "    return x_train, x_test, y_train, y_test"
   ]
  },
  {
   "cell_type": "code",
   "execution_count": 29,
   "metadata": {},
   "outputs": [],
   "source": [
    "def root_mean_square_error(y_pred, y_test):\n",
    "    rmse_train = np.sqrt(np.dot(abs(y_pred - y_test), abs(y_pred-y_test))/len(y_test))\n",
    "    return rmse_train"
   ]
  },
  {
   "cell_type": "code",
   "execution_count": 47,
   "metadata": {},
   "outputs": [],
   "source": [
    "def plot_real_vs_predicated(y_test, y_pred):\n",
    "    plt.plot(y_test, y_pred, 'ro')  # Red circles for data points\n",
    "    plt.plot([0, 50], [0, 50], 'g-')  # Green line for reference\n",
    "    plt.xlabel('Predicted values')\n",
    "    plt.ylabel('True values')\n",
    "    plt.title('Real vs Predicted Values')\n",
    "    plt.show()\n"
   ]
  },
  {
   "cell_type": "code",
   "execution_count": 50,
   "metadata": {},
   "outputs": [],
   "source": [
    "def generate_regression_values(model, x, y):\n",
    "    # Get the model parameters\n",
    "    params = np.append(model.intercept_, model.coef_)  # Use `intercept_` and `coef_` correctly\n",
    "    predictions = model.predict(x)  # Correct typo in `predications` to `predictions`\n",
    "    \n",
    "    # Create a new DataFrame for regression values\n",
    "    newX = pd.DataFrame({\"Constant\": np.ones(len(x))}).join(pd.DataFrame(x))\n",
    "    summary_frame = pd.DataFrame({\n",
    "        \"Actual\": y,\n",
    "        \"Predicted\": predictions,\n",
    "    })\n",
    "    \n",
    "    return params, summary_frame\n"
   ]
  },
  {
   "cell_type": "code",
   "execution_count": 32,
   "metadata": {},
   "outputs": [],
   "source": [
    "np.set_printoptions(precision=2, linewidth=100, suppress=True, edgeitems=2)\n"
   ]
  },
  {
   "cell_type": "code",
   "execution_count": 34,
   "metadata": {},
   "outputs": [
    {
     "name": "stdout",
     "output_type": "stream",
     "text": [
      ".. _california_housing_dataset:\n",
      "\n",
      "California Housing dataset\n",
      "--------------------------\n",
      "\n",
      "**Data Set Characteristics:**\n",
      "\n",
      ":Number of Instances: 20640\n",
      "\n",
      ":Number of Attributes: 8 numeric, predictive attributes and the target\n",
      "\n",
      ":Attribute Information:\n",
      "    - MedInc        median income in block group\n",
      "    - HouseAge      median house age in block group\n",
      "    - AveRooms      average number of rooms per household\n",
      "    - AveBedrms     average number of bedrooms per household\n",
      "    - Population    block group population\n",
      "    - AveOccup      average number of household members\n",
      "    - Latitude      block group latitude\n",
      "    - Longitude     block group longitude\n",
      "\n",
      ":Missing Attribute Values: None\n",
      "\n",
      "This dataset was obtained from the StatLib repository.\n",
      "https://www.dcc.fc.up.pt/~ltorgo/Regression/cal_housing.html\n",
      "\n",
      "The target variable is the median house value for California districts,\n",
      "expressed in hundreds of thousands of dollars ($100,000).\n",
      "\n",
      "This dataset was derived from the 1990 U.S. census, using one row per census\n",
      "block group. A block group is the smallest geographical unit for which the U.S.\n",
      "Census Bureau publishes sample data (a block group typically has a population\n",
      "of 600 to 3,000 people).\n",
      "\n",
      "A household is a group of people residing within a home. Since the average\n",
      "number of rooms and bedrooms in this dataset are provided per household, these\n",
      "columns may take surprisingly large values for block groups with few households\n",
      "and many empty houses, such as vacation resorts.\n",
      "\n",
      "It can be downloaded/loaded using the\n",
      ":func:`sklearn.datasets.fetch_california_housing` function.\n",
      "\n",
      ".. rubric:: References\n",
      "\n",
      "- Pace, R. Kelley and Ronald Barry, Sparse Spatial Autoregressions,\n",
      "  Statistics and Probability Letters, 33 (1997) 291-297\n",
      "\n"
     ]
    }
   ],
   "source": [
    "x, y, names = load_data()"
   ]
  },
  {
   "cell_type": "code",
   "execution_count": 16,
   "metadata": {},
   "outputs": [
    {
     "data": {
      "text/plain": [
       "array([[   8.33,   41.  ,    6.98,    1.02,  322.  ,    2.56,   37.88, -122.23],\n",
       "       [   8.3 ,   21.  ,    6.24,    0.97, 2401.  ,    2.11,   37.86, -122.22],\n",
       "       [   7.26,   52.  ,    8.29,    1.07,  496.  ,    2.8 ,   37.85, -122.24],\n",
       "       [   5.64,   52.  ,    5.82,    1.07,  558.  ,    2.55,   37.85, -122.25],\n",
       "       [   3.85,   52.  ,    6.28,    1.08,  565.  ,    2.18,   37.85, -122.25]])"
      ]
     },
     "execution_count": 16,
     "metadata": {},
     "output_type": "execute_result"
    }
   ],
   "source": [
    "x[0:5]"
   ]
  },
  {
   "cell_type": "code",
   "execution_count": 36,
   "metadata": {},
   "outputs": [
    {
     "data": {
      "text/plain": [
       "array([4.53, 3.58, 3.52, 3.41, 3.42])"
      ]
     },
     "execution_count": 36,
     "metadata": {},
     "output_type": "execute_result"
    }
   ],
   "source": [
    "y[0:5]"
   ]
  },
  {
   "cell_type": "code",
   "execution_count": 38,
   "metadata": {},
   "outputs": [
    {
     "data": {
      "text/plain": [
       "['MedInc',\n",
       " 'HouseAge',\n",
       " 'AveRooms',\n",
       " 'AveBedrms',\n",
       " 'Population',\n",
       " 'AveOccup',\n",
       " 'Latitude',\n",
       " 'Longitude']"
      ]
     },
     "execution_count": 38,
     "metadata": {},
     "output_type": "execute_result"
    }
   ],
   "source": [
    "names"
   ]
  },
  {
   "cell_type": "code",
   "execution_count": 40,
   "metadata": {},
   "outputs": [],
   "source": [
    "x = scale_data(x)"
   ]
  },
  {
   "cell_type": "code",
   "execution_count": 45,
   "metadata": {},
   "outputs": [],
   "source": [
    "x_train, x_test, y_train, y_test = split_data(x, y)"
   ]
  },
  {
   "cell_type": "code",
   "execution_count": 48,
   "metadata": {},
   "outputs": [
    {
     "name": "stdout",
     "output_type": "stream",
     "text": [
      ":inear model: -0.001 * Population + -0.035 * AveOccup + 0.122 * HouseAge + -0.302 * AveRooms + 0.369 * AveBedrms + 0.847 * MedInc + -0.869 * Longitude + -0.894 * Latitude\n",
      "Root Mean Square Error: 0.7284008391515453\n"
     ]
    },
    {
     "data": {
      "image/png": "[encoded data removed]",
      "text/plain": [
       "<Figure size 640x480 with 1 Axes>"
      ]
     },
     "metadata": {},
     "output_type": "display_data"
    }
   ],
   "source": [
    "linreg = LinearRegression()\n",
    "\n",
    "linreg.fit(x_train,y_train)\n",
    "\n",
    "print(\":inear model:\", pretty_print_linear(linreg.coef_,names, sort=True))\n",
    "\n",
    "Y_line_predict = linreg.predict(x_test)\n",
    "\n",
    "print(\"Root Mean Square Error: {}\".format(root_mean_square_error(Y_line_predict, y_test)))\n",
    "plot_real_vs_predicated(y_test, Y_line_predict)"
   ]
  },
  {
   "cell_type": "code",
   "execution_count": 51,
   "metadata": {},
   "outputs": [
    {
     "data": {
      "text/plain": [
       "(array([ 2.07,  0.85,  0.12, -0.3 ,  0.37, -0.  , -0.04, -0.89, -0.87]),\n",
       "        Actual  Predicted\n",
       " 0     0.47700   0.726049\n",
       " 1     0.45800   1.767434\n",
       " 2     5.00001   2.710922\n",
       " 3     2.18600   2.835147\n",
       " 4     2.78000   2.606958\n",
       " ...       ...        ...\n",
       " 6187  2.37500   2.219941\n",
       " 6188  0.67300   0.910516\n",
       " 6189  2.18400   2.074655\n",
       " 6190  1.19400   1.573714\n",
       " 6191  2.09800   1.827441\n",
       " \n",
       " [6192 rows x 2 columns])"
      ]
     },
     "execution_count": 51,
     "metadata": {},
     "output_type": "execute_result"
    }
   ],
   "source": [
    "generate_regression_values(linreg, x_test, y_test)"
   ]
  },
  {
   "cell_type": "code",
   "execution_count": 60,
   "metadata": {},
   "outputs": [
    {
     "name": "stdout",
     "output_type": "stream",
     "text": [
      "Lasso model:  0.0 * HouseAge + 0.0 * AveRooms + -0.0 * AveBedrms + -0.0 * Population + -0.0 * AveOccup + -0.0 * Latitude + -0.0 * Longitude + 0.496 * MedInc\n",
      "Root Mean Square Error: 0.8824750601280763\n"
     ]
    },
    {
     "data": {
      "image/png": "[encoded data removed]",
      "text/plain": [
       "<Figure size 640x480 with 1 Axes>"
      ]
     },
     "metadata": {},
     "output_type": "display_data"
    }
   ],
   "source": [
    "lasso = Lasso(alpha=.3)\n",
    "\n",
    "lasso.fit(x_train, y_train)\n",
    "\n",
    "print(\"Lasso model: \", pretty_print_linear(lasso.coef_, names, sort=True))\n",
    "\n",
    "y_lin_predict = lasso.predict(x_test)\n",
    "\n",
    "print(\"Root Mean Square Error: {}\".format(root_mean_square_error(y_lin_predict, y_test)))\n",
    "plot_real_vs_predicated(y_test, y_lin_predict)"
   ]
  },
  {
   "cell_type": "code",
   "execution_count": 61,
   "metadata": {},
   "outputs": [
    {
     "data": {
      "text/plain": [
       "(array([ 2.07,  0.5 ,  0.  ,  0.  , -0.  , -0.  , -0.  , -0.  , -0.  ]),\n",
       "        Actual  Predicted\n",
       " 0     0.47700   1.495903\n",
       " 1     0.45800   1.717880\n",
       " 2     5.00001   1.965630\n",
       " 3     2.18600   2.555106\n",
       " 4     2.78000   2.029578\n",
       " ...       ...        ...\n",
       " 6187  2.37500   1.828386\n",
       " 6188  0.67300   1.445742\n",
       " 6189  2.18400   1.973960\n",
       " 6190  1.19400   2.009994\n",
       " 6191  2.09800   1.853845\n",
       " \n",
       " [6192 rows x 2 columns])"
      ]
     },
     "execution_count": 61,
     "metadata": {},
     "output_type": "execute_result"
    }
   ],
   "source": [
    "generate_regression_values(lasso, x_test, y_test)"
   ]
  },
  {
   "cell_type": "code",
   "execution_count": null,
   "metadata": {},
   "outputs": [],
   "source": []
  }
 ],
 "metadata": {
  "kernelspec": {
   "display_name": "Python 3",
   "language": "python",
   "name": "python3"
  },
  "language_info": {
   "codemirror_mode": {
    "name": "ipython",
    "version": 3
   },
   "file_extension": ".py",
   "mimetype": "text/x-python",
   "name": "python",
   "nbconvert_exporter": "python",
   "pygments_lexer": "ipython3",
   "version": "3.12.4"
  }
 },
 "nbformat": 4,
 "nbformat_minor": 2
}
